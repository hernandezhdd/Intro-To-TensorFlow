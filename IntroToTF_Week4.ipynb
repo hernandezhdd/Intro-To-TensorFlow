{
  "nbformat": 4,
  "nbformat_minor": 0,
  "metadata": {
    "accelerator": "GPU",
    "colab": {
      "name": "IntroToTF_Week4.ipynb",
      "provenance": [],
      "collapsed_sections": [],
      "include_colab_link": true
    },
    "kernelspec": {
      "name": "python3",
      "display_name": "Python 3"
    },
    "language_info": {
      "name": "python"
    }
  },
  "cells": [
    {
      "cell_type": "markdown",
      "metadata": {
        "id": "view-in-github",
        "colab_type": "text"
      },
      "source": [
        "<a href=\"https://colab.research.google.com/github/hernandezhdd/Intro-To-TensorFlow/blob/main/IntroToTF_Week4.ipynb\" target=\"_parent\"><img src=\"https://colab.research.google.com/assets/colab-badge.svg\" alt=\"Open In Colab\"/></a>"
      ]
    },
    {
      "cell_type": "code",
      "metadata": {
        "id": "zX4Kg8DUTKWO"
      },
      "source": [
        "#@title Licensed under the Apache License, Version 2.0 (the \"License\");\n",
        "# you may not use this file except in compliance with the License.\n",
        "# You may obtain a copy of the License at\n",
        "#\n",
        "# https://www.apache.org/licenses/LICENSE-2.0\n",
        "#\n",
        "# Unless required by applicable law or agreed to in writing, software\n",
        "# distributed under the License is distributed on an \"AS IS\" BASIS,\n",
        "# WITHOUT WARRANTIES OR CONDITIONS OF ANY KIND, either express or implied.\n",
        "# See the License for the specific language governing permissions and\n",
        "# limitations under the License."
      ],
      "execution_count": null,
      "outputs": []
    },
    {
      "cell_type": "markdown",
      "metadata": {
        "id": "5FZ6L2rlHbG5"
      },
      "source": [
        "**Things to Note:**\n",
        "1. When coding the `class myCallback`, Python 3 will run into an error\n",
        "```python\n",
        "TypeError: '>' not supported between instances of 'NoneType' and 'float'\n",
        "```\n",
        "when using the code\n",
        "```python\n",
        "if(logs.get('accuracy')>0.99):\n",
        "```\n",
        "\n",
        "For Python 3, use the following equivalent code line\n",
        "\n",
        "```python\n",
        "if logs.get('accuracy') is not None and logs.get('accuracy') > 0.99:\n",
        "```\n",
        "\n",
        "2. You can run the notebook using TensorFlow 2.5.0"
      ]
    },
    {
      "cell_type": "code",
      "metadata": {
        "id": "4UdrR8PdHbG5"
      },
      "source": [
        "#!pip install tensorflow==2.5.0"
      ],
      "execution_count": null,
      "outputs": []
    },
    {
      "cell_type": "code",
      "metadata": {
        "id": "D8Q4rstTHbG6"
      },
      "source": [
        "# this is used in downloading data from the google drive\n",
        "#!pip install gdown"
      ],
      "execution_count": null,
      "outputs": []
    },
    {
      "cell_type": "markdown",
      "metadata": {
        "id": "q_9-x1fbHbG6"
      },
      "source": [
        "Below is code with a link to a happy or sad dataset which contains 80 images, 40 happy and 40 sad. \n",
        "Create a convolutional neural network that trains to 100% accuracy on these images,  which cancels training upon hitting training accuracy of >.999\n",
        "\n",
        "Hint -- it will work best with 3 convolutional layers."
      ]
    },
    {
      "cell_type": "code",
      "metadata": {
        "id": "3NFuMFYXtwsT",
        "colab": {
          "base_uri": "https://localhost:8080/"
        },
        "outputId": "5a8dfb47-28e2-4c1c-e033-2aa4fe518e67"
      },
      "source": [
        "import tensorflow as tf\n",
        "import os\n",
        "import zipfile\n",
        "\n",
        "!gdown --id 1NvV6VhmrfU8JDZNoEbwJxwx_6dhyN5bf \n",
        "\n",
        "zip_ref = zipfile.ZipFile(\"./happy-or-sad.zip\", 'r')\n",
        "zip_ref.extractall(\"./h-or-s\")\n",
        "zip_ref.close()"
      ],
      "execution_count": null,
      "outputs": [
        {
          "output_type": "stream",
          "name": "stdout",
          "text": [
            "Downloading...\n",
            "From: https://drive.google.com/uc?id=1NvV6VhmrfU8JDZNoEbwJxwx_6dhyN5bf\n",
            "To: /content/happy-or-sad.zip\n",
            "\r  0% 0.00/2.67M [00:00<?, ?B/s]\r100% 2.67M/2.67M [00:00<00:00, 81.7MB/s]\n"
          ]
        }
      ]
    },
    {
      "cell_type": "code",
      "metadata": {
        "id": "eUcNTpra1FK0"
      },
      "source": [
        "# GRADED FUNCTION: train_happy_sad_model\n",
        "def train_happy_sad_model():\n",
        "    # Please write your code only where you are indicated.\n",
        "    # please do not remove # model fitting inline comments.\n",
        "\n",
        "    DESIRED_ACCURACY = 0.999\n",
        "\n",
        "    class myCallback(tf.keras.callbacks.Callback):\n",
        "      '''\n",
        "      Halts the training after reaching 60 percent accuracy\n",
        "\n",
        "      Args:\n",
        "        epoch (integer) - index of epoch (required but unused in the function definition below)\n",
        "        logs (dict) - metric results from the training epoch\n",
        "      '''    \n",
        "      # YOUR CODE START HERE\n",
        "      def __init__(self):\n",
        "        self.target_accuracy = 0.999\n",
        "\n",
        "      def on_epoch_end(self, epoch, logs={}):\n",
        "        if logs.get('accuracy') is not None and logs.get('accuracy') > self.target_accuracy:\n",
        "          #Stop if threshold is met\n",
        "          print(f\"\\nReached {100*self.target_accuracy}% accuracy so cancelling training!\")\n",
        "          self.model.stop_training = True\n",
        "      # YOUR CODE END HERE\n",
        "        \n",
        "    callbacks = myCallback()\n",
        "    \n",
        "    # This Code Block should Define and Compile the Model. Please assume the images are 150 X 150 in your implementation.\n",
        "    model = tf.keras.models.Sequential([\n",
        "          # YOUR CODE HERE,\n",
        "          # YOUR CODE HERE,\n",
        "          # YOUR CODE HERE,\n",
        "\n",
        "          # Note the input shape is the desired size of the image 150x150 with 3 bytes color\n",
        "          # This is the first convolution\n",
        "          tf.keras.layers.Conv2D(16, (3,3), activation='relu', input_shape=(150, 150, 3)),\n",
        "          tf.keras.layers.MaxPooling2D(2, 2),\n",
        "          # The second convolution\n",
        "          tf.keras.layers.Conv2D(32, (3,3), activation='relu'),\n",
        "          tf.keras.layers.MaxPooling2D(2,2),\n",
        "          # The third convolution\n",
        "          tf.keras.layers.Conv2D(64, (3,3), activation='relu'),\n",
        "          tf.keras.layers.MaxPooling2D(2,2),\n",
        "          # Flatten the results to feed into a DNN\n",
        "          tf.keras.layers.Flatten(),\n",
        "          # 512 neuron hidden layer\n",
        "          tf.keras.layers.Dense(512, activation='relu'),\n",
        "          # Only 1 output neuron. It will contain a value from 0-1 where 0 for 1 class ('sad') and 1 for the other ('happy')\n",
        "          tf.keras.layers.Dense(1, activation='sigmoid'),\n",
        "\n",
        "          # YOUR CODE HERE,\n",
        "          # YOUR CODE HERE\n",
        "          # YOUR CODE HERE\n",
        "          # YOUR CODE HERE\n",
        "          # YOUR CODE HERE\n",
        "          # YOUR CODE HERE\n",
        "          ])\n",
        "\n",
        "    from tensorflow.keras.optimizers import RMSprop\n",
        "\n",
        "    model.compile(# YOUR CODE HERE,\n",
        "                  # YOUR CODE HERE,\n",
        "                  loss='binary_crossentropy',\n",
        "                  optimizer=RMSprop(learning_rate=0.001),\n",
        "                  metrics=['accuracy'],\n",
        "                  # YOUR CODE HERE\n",
        "                 )\n",
        "    \n",
        "    # This code block should create an instance of an ImageDataGenerator called train_datagen \n",
        "    # And a train_generator by calling train_datagen.flow_from_directory\n",
        "\n",
        "    from tensorflow.keras.preprocessing.image import ImageDataGenerator\n",
        "\n",
        "    train_datagen = ImageDataGenerator(rescale=1/255) # YOUR CODE HERE\n",
        "\n",
        "    # Please use a target_size of 150 X 150.\n",
        "    # Flow training images in batches of 4 using train_datagen generator\n",
        "    train_generator = train_datagen.flow_from_directory(# YOUR CODE HERE\n",
        "                                                        # YOUR CODE HERE\n",
        "                      './h-or-s/',  # This is the source directory for training images\n",
        "                      target_size=(150, 150),  # All images will be resized to 300x300\n",
        "                      batch_size=4,\n",
        "                      # Since you use binary_crossentropy loss, you need binary labels\n",
        "                      class_mode='binary',\n",
        "                                                        # YOUR CODE HERE\n",
        "                                                        # YOUR CODE HERE\n",
        "                                                       )\n",
        "    # Expected output: 'Found 80 images belonging to 2 classes'\n",
        "\n",
        "    # This code block should call model.fit_generator and train for\n",
        "    # a number of epochs.\n",
        "    # model fitting\n",
        "    history = model.fit_generator(# YOUR CODE HERE,\n",
        "                        # YOUR CODE HERE,\n",
        "                        # YOUR CODE HERE,\n",
        "                        train_generator,\n",
        "                        steps_per_epoch=8,  \n",
        "                        epochs=15,\n",
        "                        verbose=1,\n",
        "                        callbacks=[callbacks]\n",
        "                        # validation_data = validation_generator,\n",
        "                        # validation_steps=8,\n",
        "                        # YOUR CODE HERE,\n",
        "                        # YOUR CODE HERE,\n",
        "                       )\n",
        "    \n",
        "    return history.history['accuracy'][-1]"
      ],
      "execution_count": null,
      "outputs": []
    },
    {
      "cell_type": "code",
      "metadata": {
        "id": "sSaPPUe_z_OU",
        "colab": {
          "base_uri": "https://localhost:8080/"
        },
        "outputId": "fe52b598-48d5-4f53-e5e3-31966f69d33b"
      },
      "source": [
        "train_happy_sad_model()"
      ],
      "execution_count": null,
      "outputs": [
        {
          "output_type": "stream",
          "name": "stdout",
          "text": [
            "Found 80 images belonging to 2 classes.\n",
            "Epoch 1/15\n"
          ]
        },
        {
          "output_type": "stream",
          "name": "stderr",
          "text": [
            "/usr/local/lib/python3.7/dist-packages/ipykernel_launcher.py:101: UserWarning: `Model.fit_generator` is deprecated and will be removed in a future version. Please use `Model.fit`, which supports generators.\n"
          ]
        },
        {
          "output_type": "stream",
          "name": "stdout",
          "text": [
            "8/8 [==============================] - 1s 24ms/step - loss: 2.0834 - accuracy: 0.5312\n",
            "Epoch 2/15\n",
            "8/8 [==============================] - 0s 21ms/step - loss: 0.6282 - accuracy: 0.5625\n",
            "Epoch 3/15\n",
            "8/8 [==============================] - 0s 21ms/step - loss: 0.3129 - accuracy: 0.8125\n",
            "Epoch 4/15\n",
            "8/8 [==============================] - 0s 20ms/step - loss: 0.4497 - accuracy: 0.8750\n",
            "Epoch 5/15\n",
            "8/8 [==============================] - 0s 23ms/step - loss: 0.2589 - accuracy: 0.8438\n",
            "Epoch 6/15\n",
            "8/8 [==============================] - 0s 20ms/step - loss: 0.1566 - accuracy: 0.9375\n",
            "Epoch 7/15\n",
            "7/8 [=========================>....] - ETA: 0s - loss: 0.0697 - accuracy: 1.0000\n",
            "Reached 99.9% accuracy so cancelling training!\n",
            "8/8 [==============================] - 0s 19ms/step - loss: 0.0619 - accuracy: 1.0000\n"
          ]
        },
        {
          "output_type": "execute_result",
          "data": {
            "text/plain": [
              "1.0"
            ]
          },
          "metadata": {},
          "execution_count": 8
        }
      ]
    }
  ]
}